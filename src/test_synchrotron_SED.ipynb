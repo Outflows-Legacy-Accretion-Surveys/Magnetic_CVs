{
 "cells": [
  {
   "cell_type": "markdown",
   "metadata": {},
   "source": [
    "Notebook to calculate the synchrotron emission from an arbitrary particle energy distribution"
   ]
  },
  {
   "cell_type": "code",
   "execution_count": 1,
   "metadata": {},
   "outputs": [],
   "source": [
    "import numpy as np\n",
    "from scipy.integrate import trapz\n",
    "import matplotlib.pyplot as plt\n",
    "import matplotlib.colors\n",
    "\n",
    "from astropy.constants import alpha, c, e, hbar, m_e, m_p, sigma_sb, k_B, M_sun, sigma_T\n",
    "from astropy import units as u\n",
    "\n",
    "import naima\n",
    "from naima.models import ExponentialCutoffPowerLaw, Synchrotron\n",
    "\n",
    "from auxiliary_functions import free_fall_time\n",
    "\n",
    "u.default_system = 'cgs'"
   ]
  },
  {
   "cell_type": "code",
   "execution_count": 2,
   "metadata": {},
   "outputs": [],
   "source": [
    "# Nice-looking plots\n",
    "nice_fonts = {\n",
    "        # Use LaTeX to write all text\n",
    "        \"text.usetex\": True,\n",
    "        \"font.family\": 'serif',\n",
    "        # Use 10pt font in plots, to match 10pt font in document\n",
    "        \"axes.labelsize\": 18,\n",
    "        \"font.size\": 18,\n",
    "        \"axes.linewidth\":1,\n",
    "        \"axes.titlesize\":16,\n",
    "        # Make the legend/label fonts a little smaller\n",
    "        \"legend.fontsize\": 12,\n",
    "        \"xtick.labelsize\": 16,\n",
    "        \"ytick.labelsize\": 16,\n",
    "        \"xtick.major.size\": 5,     # major tick size in points\n",
    "        \"xtick.minor.size\": 5,       # minor tick size in points\n",
    "        \"xtick.major.width\": 1.4,     # major tick width in points\n",
    "        \"xtick.minor.width\": 1.4,     # minor tick width in points\n",
    "}\n",
    "matplotlib.rcParams.update(nice_fonts)"
   ]
  },
  {
   "cell_type": "markdown",
   "metadata": {},
   "source": [
    "### Define the system parameters"
   ]
  },
  {
   "cell_type": "code",
   "execution_count": 16,
   "metadata": {},
   "outputs": [],
   "source": [
    "# Parameters of the WD\n",
    "M_WD = 1.0 * u.M_sun\n",
    "T_WD = 1e5 * u.K\n",
    "R_WD = 1e3 * u.km\n",
    "B = 1e2 * u.G\n",
    "\n",
    "# Parameters of the system\n",
    "dist = 1 * u.kpc\n",
    "L_acc = 1e30 * u.erg / u.s\n",
    "\n",
    "# Other derived parameters\n",
    "t_ff = free_fall_time(R_WD, M_WD)"
   ]
  },
  {
   "cell_type": "markdown",
   "metadata": {},
   "source": [
    "### Define the particle energy distribution"
   ]
  },
  {
   "cell_type": "code",
   "execution_count": 17,
   "metadata": {},
   "outputs": [
    {
     "data": {
      "text/plain": [
       "<naima.models.ExponentialCutoffPowerLaw at 0x7fd2ff037df0>"
      ]
     },
     "execution_count": 17,
     "metadata": {},
     "output_type": "execute_result"
    }
   ],
   "source": [
    "# Parameters\n",
    "amplitude = (L_acc * t_ff / u.erg) / u.eV   # --> NEED SOMETHING REALISTIC HERE\n",
    "alpha = 2.0\n",
    "e_cutoff = 1e11 * u.eV\n",
    "ECPL = ExponentialCutoffPowerLaw(amplitude, 10*u.TeV, alpha, e_cutoff)\n",
    "ECPL"
   ]
  },
  {
   "cell_type": "markdown",
   "metadata": {},
   "source": [
    "### Calculate the synchrotron spectra"
   ]
  },
  {
   "cell_type": "code",
   "execution_count": 18,
   "metadata": {},
   "outputs": [
    {
     "data": {
      "text/latex": [
       "$[3.2884421 \\times 10^{30},~3.5394866 \\times 10^{30},~3.8096569 \\times 10^{30},~\\dots,~8.3948833 \\times 10^{29},~5.8572795 \\times 10^{29},~4.0571951 \\times 10^{29}] \\; \\mathrm{\\frac{erg}{s}}$"
      ],
      "text/plain": [
       "<Quantity [3.28844213e+30, 3.53948663e+30, 3.80965686e+30, 4.10040521e+30,\n",
       "           4.41329379e+30, 4.75000271e+30, 5.11233883e+30, 5.50224531e+30,\n",
       "           5.92181175e+30, 6.37328516e+30, 6.85908169e+30, 7.38179919e+30,\n",
       "           7.94423081e+30, 8.54937942e+30, 9.20047327e+30, 9.90098264e+30,\n",
       "           1.06546377e+31, 1.14654480e+31, 1.23377226e+31, 1.32760927e+31,\n",
       "           1.42855348e+31, 1.53713966e+31, 1.65394239e+31, 1.77957895e+31,\n",
       "           1.91471252e+31, 2.06005544e+31, 2.21637282e+31, 2.38448640e+31,\n",
       "           2.56527860e+31, 2.75969694e+31, 2.96875872e+31, 3.19355603e+31,\n",
       "           3.43526114e+31, 3.69513220e+31, 3.97451936e+31, 4.27487134e+31,\n",
       "           4.59774237e+31, 4.94479968e+31, 5.31783140e+31, 5.71875506e+31,\n",
       "           6.14962659e+31, 6.61264998e+31, 7.11018747e+31, 7.64477050e+31,\n",
       "           8.21911124e+31, 8.83611495e+31, 9.49889309e+31, 1.02107771e+32,\n",
       "           1.09753334e+32, 1.17963787e+32, 1.26779968e+32, 1.36245560e+32,\n",
       "           1.46407276e+32, 1.57315058e+32, 1.69022278e+32, 1.81585962e+32,\n",
       "           1.95067017e+32, 2.09530472e+32, 2.25045732e+32, 2.41686847e+32,\n",
       "           2.59532785e+32, 2.78667733e+32, 2.99181391e+32, 3.21169298e+32,\n",
       "           3.44733160e+32, 3.69981187e+32, 3.97028457e+32, 4.25997273e+32,\n",
       "           4.57017547e+32, 4.90227178e+32, 5.25772456e+32, 5.63808454e+32,\n",
       "           6.04499442e+32, 6.48019292e+32, 6.94551888e+32, 7.44291534e+32,\n",
       "           7.97443356e+32, 8.54223690e+32, 9.14860462e+32, 9.79593539e+32,\n",
       "           1.04867507e+33, 1.12236977e+33, 1.20095521e+33, 1.28472198e+33,\n",
       "           1.37397391e+33, 1.46902811e+33, 1.57021501e+33, 1.67787832e+33,\n",
       "           1.79237478e+33, 1.91407396e+33, 2.04335784e+33, 2.18062021e+33,\n",
       "           2.32626604e+33, 2.48071057e+33, 2.64437827e+33, 2.81770160e+33,\n",
       "           3.00111949e+33, 3.19507572e+33, 3.40001691e+33, 3.61639040e+33,\n",
       "           3.84464173e+33, 4.08521199e+33, 4.33853481e+33, 4.60503310e+33,\n",
       "           4.88511560e+33, 5.17917313e+33, 5.48757462e+33, 5.81066302e+33,\n",
       "           6.14875102e+33, 6.50211672e+33, 6.87099924e+33, 7.25559443e+33,\n",
       "           7.65605073e+33, 8.07246525e+33, 8.50488022e+33, 8.95328001e+33,\n",
       "           9.41758870e+33, 9.89766847e+33, 1.03933189e+34, 1.09042775e+34,\n",
       "           1.14302211e+34, 1.19707690e+34, 1.25254878e+34, 1.30938969e+34,\n",
       "           1.36754763e+34, 1.42696767e+34, 1.48759295e+34, 1.54936600e+34,\n",
       "           1.61223012e+34, 1.67613085e+34, 1.74101760e+34, 1.80684524e+34,\n",
       "           1.87357574e+34, 1.94117974e+34, 2.00963803e+34, 2.07894282e+34,\n",
       "           2.14909884e+34, 2.22012415e+34, 2.29205058e+34, 2.36492393e+34,\n",
       "           2.43880369e+34, 2.51376239e+34, 2.58988471e+34, 2.66726605e+34,\n",
       "           2.74601104e+34, 2.82623171e+34, 2.90804558e+34, 2.99157372e+34,\n",
       "           3.07693889e+34, 3.16426382e+34, 3.25366972e+34, 3.34527507e+34,\n",
       "           3.43919482e+34, 3.53553983e+34, 3.63441670e+34, 3.73592792e+34,\n",
       "           3.84017226e+34, 3.94724532e+34, 4.05724025e+34, 4.17024848e+34,\n",
       "           4.28636053e+34, 4.40566668e+34, 4.52825764e+34, 4.65422507e+34,\n",
       "           4.78366206e+34, 4.91666345e+34, 5.05332616e+34, 5.19374933e+34,\n",
       "           5.33803454e+34, 5.48628590e+34, 5.63861015e+34, 5.79511678e+34,\n",
       "           5.95591804e+34, 6.12112906e+34, 6.29086793e+34, 6.46525571e+34,\n",
       "           6.64441655e+34, 6.82847773e+34, 7.01756975e+34, 7.21182639e+34,\n",
       "           7.41138477e+34, 7.61638547e+34, 7.82697254e+34, 8.04329361e+34,\n",
       "           8.26549998e+34, 8.49374665e+34, 8.72819245e+34, 8.96900007e+34,\n",
       "           9.21633618e+34, 9.47037149e+34, 9.73128083e+34, 9.99924321e+34,\n",
       "           1.02744420e+35, 1.05570648e+35, 1.08473038e+35, 1.11453556e+35,\n",
       "           1.14514215e+35, 1.17657075e+35, 1.20884243e+35, 1.24197875e+35,\n",
       "           1.27600177e+35, 1.31093404e+35, 1.34679864e+35, 1.38361914e+35,\n",
       "           1.42141966e+35, 1.46022486e+35, 1.50005991e+35, 1.54095056e+35,\n",
       "           1.58292312e+35, 1.62600443e+35, 1.67022194e+35, 1.71560366e+35,\n",
       "           1.76217819e+35, 1.80997473e+35, 1.85902306e+35, 1.90935358e+35,\n",
       "           1.96099730e+35, 2.01398584e+35, 2.06835143e+35, 2.12412694e+35,\n",
       "           2.18134586e+35, 2.24004231e+35, 2.30025105e+35, 2.36200747e+35,\n",
       "           2.42534760e+35, 2.49030811e+35, 2.55692629e+35, 2.62524010e+35,\n",
       "           2.69528811e+35, 2.76710953e+35, 2.84074419e+35, 2.91623257e+35,\n",
       "           2.99361575e+35, 3.07293542e+35, 3.15423389e+35, 3.23755405e+35,\n",
       "           3.32293938e+35, 3.41043395e+35, 3.50008235e+35, 3.59192975e+35,\n",
       "           3.68602184e+35, 3.78240481e+35, 3.88112534e+35, 3.98223057e+35,\n",
       "           4.08576811e+35, 4.19178595e+35, 4.30033249e+35, 4.41145646e+35,\n",
       "           4.52520695e+35, 4.64163331e+35, 4.76078513e+35, 4.88271222e+35,\n",
       "           5.00746455e+35, 5.13509220e+35, 5.26564532e+35, 5.39917404e+35,\n",
       "           5.53572848e+35, 5.67535863e+35, 5.81811431e+35, 5.96404510e+35,\n",
       "           6.11320026e+35, 6.26562867e+35, 6.42137873e+35, 6.58049829e+35,\n",
       "           6.74303455e+35, 6.90903399e+35, 7.07854223e+35, 7.25160397e+35,\n",
       "           7.42826285e+35, 7.60856136e+35, 7.79254071e+35, 7.98024071e+35,\n",
       "           8.17169963e+35, 8.36695408e+35, 8.56603888e+35, 8.76898687e+35,\n",
       "           8.97582882e+35, 9.18659323e+35, 9.40130616e+35, 9.61999112e+35,\n",
       "           9.84266880e+35, 1.00693570e+36, 1.03000703e+36, 1.05348202e+36,\n",
       "           1.07736142e+36, 1.10164566e+36, 1.12633475e+36, 1.15142827e+36,\n",
       "           1.17692540e+36, 1.20282483e+36, 1.22912477e+36, 1.25582293e+36,\n",
       "           1.28291650e+36, 1.31040208e+36, 1.33827572e+36, 1.36653285e+36,\n",
       "           1.39516828e+36, 1.42417613e+36, 1.45354988e+36, 1.48328225e+36,\n",
       "           1.51336527e+36, 1.54379017e+36, 1.57454739e+36, 1.60562658e+36,\n",
       "           1.63701651e+36, 1.66870509e+36, 1.70067935e+36, 1.73292537e+36,\n",
       "           1.76542829e+36, 1.79817228e+36, 1.83114050e+36, 1.86431512e+36,\n",
       "           1.89767722e+36, 1.93120686e+36, 1.96488298e+36, 1.99868344e+36,\n",
       "           2.03258497e+36, 2.06656318e+36, 2.10059250e+36, 2.13464623e+36,\n",
       "           2.16869649e+36, 2.20271421e+36, 2.23666917e+36, 2.27052994e+36,\n",
       "           2.30426392e+36, 2.33783733e+36, 2.37121523e+36, 2.40436150e+36,\n",
       "           2.43723890e+36, 2.46980907e+36, 2.50203251e+36, 2.53386870e+36,\n",
       "           2.56527604e+36, 2.59621193e+36, 2.62663283e+36, 2.65649425e+36,\n",
       "           2.68575086e+36, 2.71435651e+36, 2.74226431e+36, 2.76942668e+36,\n",
       "           2.79579545e+36, 2.82132192e+36, 2.84595697e+36, 2.86965111e+36,\n",
       "           2.89235461e+36, 2.91401762e+36, 2.93459024e+36, 2.95402265e+36,\n",
       "           2.97226524e+36, 2.98926875e+36, 3.00498437e+36, 3.01936392e+36,\n",
       "           3.03235995e+36, 3.04392593e+36, 3.05401639e+36, 3.06258706e+36,\n",
       "           3.06959507e+36, 3.07499909e+36, 3.07875950e+36, 3.08083857e+36,\n",
       "           3.08120063e+36, 3.07981227e+36, 3.07664245e+36, 3.07166275e+36,\n",
       "           3.06484750e+36, 3.05617396e+36, 3.04562250e+36, 3.03317677e+36,\n",
       "           3.01882381e+36, 3.00255430e+36, 2.98436261e+36, 2.96424700e+36,\n",
       "           2.94220974e+36, 2.91825724e+36, 2.89240011e+36, 2.86465335e+36,\n",
       "           2.83503635e+36, 2.80357300e+36, 2.77029174e+36, 2.73522561e+36,\n",
       "           2.69841224e+36, 2.65989391e+36, 2.61971745e+36, 2.57793428e+36,\n",
       "           2.53460032e+36, 2.48977592e+36, 2.44352575e+36, 2.39591867e+36,\n",
       "           2.34702762e+36, 2.29692941e+36, 2.24570457e+36, 2.19343709e+36,\n",
       "           2.14021425e+36, 2.08612628e+36, 2.03126616e+36, 1.97572928e+36,\n",
       "           1.91961314e+36, 1.86301701e+36, 1.80604159e+36, 1.74878862e+36,\n",
       "           1.69136055e+36, 1.63386010e+36, 1.57638991e+36, 1.51905210e+36,\n",
       "           1.46194788e+36, 1.40517717e+36, 1.34883814e+36, 1.29302683e+36,\n",
       "           1.23783680e+36, 1.18335865e+36, 1.12967974e+36, 1.07688378e+36,\n",
       "           1.02505048e+36, 9.74255291e+35, 9.24569030e+35, 8.76057663e+35,\n",
       "           8.28782042e+35, 7.82797691e+35, 7.38154625e+35, 6.94897205e+35,\n",
       "           6.53064015e+35, 6.12687790e+35, 5.73795371e+35, 5.36407698e+35,\n",
       "           5.00539841e+35, 4.66201068e+35, 4.33394947e+35, 4.02119484e+35,\n",
       "           3.72367292e+35, 3.44125798e+35, 3.17377472e+35, 2.92100087e+35,\n",
       "           2.68267008e+35, 2.45847495e+35, 2.24807030e+35, 2.05107663e+35,\n",
       "           1.86708363e+35, 1.69565384e+35, 1.53632637e+35, 1.38862060e+35,\n",
       "           1.25203990e+35, 1.12607534e+35, 1.01020921e+35, 9.03918606e+34,\n",
       "           8.06678706e+34, 7.17966002e+34, 6.37261302e+34, 5.64052533e+34,\n",
       "           4.97837323e+34, 4.38125344e+34, 3.84440412e+34, 3.36322331e+34,\n",
       "           2.93328475e+34, 2.55035116e+34, 2.21038493e+34, 1.90955633e+34,\n",
       "           1.64424930e+34, 1.41106491e+34, 1.20682270e+34, 1.02855996e+34,\n",
       "           8.73529205e+33, 7.39193942e+33, 6.23223005e+33, 5.23483592e+33,\n",
       "           4.38033228e+33, 3.65110838e+33, 3.03127134e+33, 2.50654479e+33,\n",
       "           2.06416426e+33, 1.69277064e+33, 1.38230348e+33, 1.12389521e+33,\n",
       "           9.09767558e+32, 7.33131204e+32, 5.88089410e+32, 4.69546380e+32,\n",
       "           3.73120852e+32, 2.95065294e+32, 2.32190963e+32, 1.81798934e+32,\n",
       "           1.41617104e+32, 1.09743097e+32, 8.45928858e+31, 6.48549029e+31,\n",
       "           4.94493459e+31, 3.74923501e+31, 2.82646709e+31, 2.11845040e+31,\n",
       "           1.57840646e+31, 1.16895498e+31, 8.60411942e+30, 6.29354282e+30,\n",
       "           4.57418325e+30, 3.30301144e+30, 2.36936700e+30, 1.68821185e+30,\n",
       "           1.19464679e+30, 8.39488333e+29, 5.85727951e+29, 4.05719510e+29] erg / s>"
      ]
     },
     "execution_count": 18,
     "metadata": {},
     "output_type": "execute_result"
    }
   ],
   "source": [
    "# Get syn sed\n",
    "B = 1e-1 * u.G\n",
    "distance = 1 * u.kpc\n",
    "Eemin = 1e8*u.eV\n",
    "SYN = naima.models.Synchrotron(ECPL, B=B, Eemin=Eemin)    \n",
    "\n",
    "E_phmin = 1e-7 * u.eV\n",
    "E_phmax = 1e5 * u.eV\n",
    "E_ph = np.geomspace(E_phmin, E_phmax, 500)\n",
    "sed_SYN = SYN.sed(E_ph, distance=0) # =0 for luminosities, =dist for fluxes\n",
    "sed_SYN\n",
    "\n",
    "# Get SSC SED\n",
    "#Lsy = SYN.flux(data, distance=0*u.cm)\n",
    "#R = 0.01 *  (1*u.pc).to(u.cm)\n",
    "#c = 2.99792458e10 * u.cm / u.second\n",
    "#phn_sy = Lsy / (4 * np.pi * R**2 * c) * 2.24 # This is the specific density of photons\n",
    "#IC = naima.models.InverseCompton(Q, seed_photon_fields=[['SSC', data['energy'], phn_sy]], Eemin=Eemin)\n"
   ]
  },
  {
   "cell_type": "markdown",
   "metadata": {},
   "source": [
    "### Plot the results"
   ]
  },
  {
   "cell_type": "code",
   "execution_count": 21,
   "metadata": {},
   "outputs": [
    {
     "data": {
      "image/png": "[encoded data removed]",
      "text/plain": [
       "<Figure size 640x480 with 1 Axes>"
      ]
     },
     "metadata": {},
     "output_type": "display_data"
    }
   ],
   "source": [
    "fig, ax = plt.subplots()\n",
    "\n",
    "# Set labels\n",
    "plt.title('')\n",
    "plt.setp(ax, xlabel=r\"$E_\\gamma$ [eV]\")\n",
    "plt.setp(ax, ylabel=r\"$E_\\gamma \\, L(E_\\gamma)$ [erg s$^{-1}$ cm$^{-2}$]\")\n",
    "\n",
    "#ymin, ymax = 1e33, 1e38 # For luminosities\n",
    "plt.xlim(E_phmin.to(\"eV\").value, E_phmax.to(\"eV\").value)\n",
    "plt.ylim(ymin, ymax)\n",
    "\n",
    "plt.plot(E_ph, sed_SYN, ls='-', linewidth=2, label='', zorder=1)\n",
    "    \n",
    "ax.loglog() \n",
    "\n",
    "plt.show()"
   ]
  },
  {
   "cell_type": "code",
   "execution_count": null,
   "metadata": {},
   "outputs": [],
   "source": []
  }
 ],
 "metadata": {
  "kernelspec": {
   "display_name": "Python 3 (ipykernel)",
   "language": "python",
   "name": "python3"
  },
  "language_info": {
   "codemirror_mode": {
    "name": "ipython",
    "version": 3
   },
   "file_extension": ".py",
   "mimetype": "text/x-python",
   "name": "python",
   "nbconvert_exporter": "python",
   "pygments_lexer": "ipython3",
   "version": "3.9.16"
  }
 },
 "nbformat": 4,
 "nbformat_minor": 2
}
